{
 "cells": [
  {
   "cell_type": "markdown",
   "metadata": {},
   "source": [
    "<h1> GENERATE SIGNATURE <h1>"
   ]
  },
  {
   "cell_type": "code",
   "execution_count": 1,
   "metadata": {},
   "outputs": [],
   "source": [
    "from sign import SignatureGenerator"
   ]
  },
  {
   "cell_type": "code",
   "execution_count": 2,
   "metadata": {},
   "outputs": [],
   "source": [
    "types = {\n",
    "    \"Bid\": [\n",
    "      {\"name\": \"swapId\", \"type\": \"uint256\"},\n",
    "      {\"name\": \"nonce\", \"type\": \"uint256\"},\n",
    "      {\"name\": \"signerWallet\", \"type\": \"address\"},\n",
    "      {\"name\": \"sellAmount\", \"type\": \"uint256\"},\n",
    "      {\"name\": \"buyAmount\", \"type\": \"uint256\"},\n",
    "      {\"name\": \"referrer\", \"type\": \"address\"},\n",
    "    ]\n",
    "  }\n",
    "\n",
    "good_input = {\n",
    "  \"swapId\": 1,\n",
    "  \"nonce\": 1,\n",
    "  \"signerWallet\": '0x28b2732460D09a8CDdd66cE956bE41D35B12F3b1',\n",
    "  \"sellAmount\": '6000000',\n",
    "  \"buyAmount\": '1000000000000000000',\n",
    "  \"referrer\": '0x0000000000000000000000000000000000000000'\n",
    "}\n",
    "\n",
    "bad_input = {\n",
    "  \"swapId\": 1,\n",
    "  \"nonce\": 1,\n",
    "  \"signerWallet\": '0xF49e9fc4487E1B23F92bC8effde5010e91b706eF',\n",
    "  \"sellAmount\": '1000',\n",
    "  \"buyAmount\": '1000000000000000',\n",
    "  \"referrer\": '0x0000000000000000000000000000000000000000',\n",
    "}\n",
    "\n",
    "domain = {\n",
    "  \"name\": 'RIBBON SWAP',\n",
    "  \"version\": '1',\n",
    "  \"chainId\": 42,\n",
    "  \"verifyingContract\": '0x58848824baEb9678847aF487CB02EAba782FECB5'\n",
    "}\n",
    "\n",
    "privKey = \"0xeb07e493c6eec28545bae35733c129461819c9e44be08dca3500bc405c232d8a\"\n"
   ]
  },
  {
   "cell_type": "code",
   "execution_count": 3,
   "metadata": {},
   "outputs": [
    {
     "data": {
      "text/plain": [
       "{'swapId': 1,\n",
       " 'nonce': 1,\n",
       " 'signerWallet': '0x28b2732460D09a8CDdd66cE956bE41D35B12F3b1',\n",
       " 'sellAmount': '6000000',\n",
       " 'buyAmount': '1000000000000000000',\n",
       " 'referrer': '0x0000000000000000000000000000000000000000',\n",
       " 'v': 27,\n",
       " 'r': '0xd48860fab24673d45a03d58428f36bd7d62ac115972bd2a94e040503415a9478',\n",
       " 's': '0x32eed933d6532dc613e3167a5e839bce2c1d577b3c4b2c73eea7411fec1c9a53'}"
      ]
     },
     "execution_count": 3,
     "metadata": {},
     "output_type": "execute_result"
    }
   ],
   "source": [
    "signer = SignatureGenerator(privKey)\n",
    "bid = signer.sign(domain, types, good_input)\n",
    "bid"
   ]
  },
  {
   "cell_type": "markdown",
   "metadata": {},
   "source": [
    "<h1> GET OTOKEN DETAILS <h1>"
   ]
  },
  {
   "cell_type": "code",
   "execution_count": 4,
   "metadata": {},
   "outputs": [],
   "source": [
    "import os\n",
    "from dotenv import load_dotenv\n",
    "load_dotenv()\n",
    "\n",
    "rpc = os.environ.get(\"RPC\")"
   ]
  },
  {
   "cell_type": "code",
   "execution_count": 5,
   "metadata": {},
   "outputs": [],
   "source": [
    "from option import oTokenFactory"
   ]
  },
  {
   "cell_type": "code",
   "execution_count": 6,
   "metadata": {},
   "outputs": [
    {
     "data": {
      "text/plain": [
       "{'collateralAsset': '0x0000000000000000000000000000000000000000',\n",
       " 'underlyingAsset': '0x0000000000000000000000000000000000000000',\n",
       " 'strikeAsset': '0x0000000000000000000000000000000000000000',\n",
       " 'strikePrice': 0,\n",
       " 'expiryTimestamp': 0,\n",
       " 'isPut': False}"
      ]
     },
     "execution_count": 6,
     "metadata": {},
     "output_type": "execute_result"
    }
   ],
   "source": [
    "oTokenAddress = \"0xc68125707dd556975ee9d266E1844624f3128e77\"\n",
    "oToken = oTokenFactory(rpc, oTokenAddress)\n",
    "oToken.getOtokenDetails()"
   ]
  },
  {
   "cell_type": "markdown",
   "metadata": {},
   "source": [
    "<h1> VALIDATE BID <h1>"
   ]
  },
  {
   "cell_type": "code",
   "execution_count": 7,
   "metadata": {},
   "outputs": [],
   "source": [
    "from swap import SwapFactory"
   ]
  },
  {
   "cell_type": "code",
   "execution_count": 8,
   "metadata": {},
   "outputs": [],
   "source": [
    "params = {\"bid\": bid}"
   ]
  },
  {
   "cell_type": "code",
   "execution_count": 9,
   "metadata": {},
   "outputs": [
    {
     "data": {
      "text/plain": [
       "{'errors': 0}"
      ]
     },
     "execution_count": 9,
     "metadata": {},
     "output_type": "execute_result"
    }
   ],
   "source": [
    "swapAddress = \"0x58848824baEb9678847aF487CB02EAba782FECB5\"\n",
    "swap = SwapFactory(rpc, swapAddress)\n",
    "result = swap.validateBid(bid)\n",
    "result"
   ]
  },
  {
   "cell_type": "code",
   "execution_count": 10,
   "metadata": {},
   "outputs": [
    {
     "data": {
      "text/plain": [
       "{'errors': 5,\n",
       " 'messages': ['BID_TOO_SMALL',\n",
       "  'PRICE_TOO_LOW',\n",
       "  'SIGNER_ALLOWANCE_LOW',\n",
       "  'SIGNER_BALANCE_LOW']}"
      ]
     },
     "execution_count": 10,
     "metadata": {},
     "output_type": "execute_result"
    }
   ],
   "source": [
    "bid = signer.sign(domain, types, bad_input)\n",
    "result = swap.validateBid(bid)\n",
    "result"
   ]
  }
 ],
 "metadata": {
  "interpreter": {
   "hash": "05026ddd0b17402c68f2fff1b7c5d727193965c73afadbbc965056bc12ac8a9a"
  },
  "kernelspec": {
   "display_name": "Python 3.9.10 ('api-myeLerVT')",
   "language": "python",
   "name": "python3"
  },
  "language_info": {
   "codemirror_mode": {
    "name": "ipython",
    "version": 3
   },
   "file_extension": ".py",
   "mimetype": "text/x-python",
   "name": "python",
   "nbconvert_exporter": "python",
   "pygments_lexer": "ipython3",
   "version": "3.9.10"
  },
  "orig_nbformat": 4
 },
 "nbformat": 4,
 "nbformat_minor": 2
}
